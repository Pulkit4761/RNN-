{
  "nbformat": 4,
  "nbformat_minor": 0,
  "metadata": {
    "colab": {
      "provenance": [],
      "authorship_tag": "ABX9TyOX+hmFi5v2eUnVCbwpp/4y",
      "include_colab_link": true
    },
    "kernelspec": {
      "name": "python3",
      "display_name": "Python 3"
    },
    "language_info": {
      "name": "python"
    }
  },
  "cells": [
    {
      "cell_type": "markdown",
      "metadata": {
        "id": "view-in-github",
        "colab_type": "text"
      },
      "source": [
        "<a href=\"https://colab.research.google.com/github/Pulkit4761/RNN-/blob/main/Tokenization_py.ipynb\" target=\"_parent\"><img src=\"https://colab.research.google.com/assets/colab-badge.svg\" alt=\"Open In Colab\"/></a>"
      ]
    },
    {
      "cell_type": "code",
      "execution_count": null,
      "metadata": {
        "id": "c69p3AUD08hw"
      },
      "outputs": [],
      "source": [
        "corpus = \"\"\"\n",
        "Open source licenses! particularly those that are free for commercial use,\n",
        "are enabling independent teams to build systems that are competitive with those produced by big tech companies.\n",
        "A recently leaked Google memo went so far as to call open source development a threat to the company’s business.\n",
        "\"\"\""
      ]
    },
    {
      "cell_type": "code",
      "source": [
        "!pip install nltk"
      ],
      "metadata": {
        "colab": {
          "base_uri": "https://localhost:8080/"
        },
        "id": "2_OgMU3j3ozD",
        "outputId": "44ec80f8-f6d6-4de3-9b01-0e96fb1e316e"
      },
      "execution_count": null,
      "outputs": [
        {
          "output_type": "stream",
          "name": "stdout",
          "text": [
            "Requirement already satisfied: nltk in /usr/local/lib/python3.10/dist-packages (3.8.1)\n",
            "Requirement already satisfied: click in /usr/local/lib/python3.10/dist-packages (from nltk) (8.1.7)\n",
            "Requirement already satisfied: joblib in /usr/local/lib/python3.10/dist-packages (from nltk) (1.4.2)\n",
            "Requirement already satisfied: regex>=2021.8.3 in /usr/local/lib/python3.10/dist-packages (from nltk) (2024.9.11)\n",
            "Requirement already satisfied: tqdm in /usr/local/lib/python3.10/dist-packages (from nltk) (4.66.5)\n"
          ]
        }
      ]
    },
    {
      "cell_type": "code",
      "source": [
        "# Paragraph --> Sentence\n",
        "import nltk\n",
        "nltk.download('punkt')\n",
        "from nltk.tokenize import sent_tokenize"
      ],
      "metadata": {
        "colab": {
          "base_uri": "https://localhost:8080/"
        },
        "id": "NA3hmFVN2BLp",
        "outputId": "7751617c-b1e5-46b1-aef8-2c242818ebb7"
      },
      "execution_count": null,
      "outputs": [
        {
          "output_type": "stream",
          "name": "stderr",
          "text": [
            "[nltk_data] Downloading package punkt to /root/nltk_data...\n",
            "[nltk_data]   Unzipping tokenizers/punkt.zip.\n"
          ]
        }
      ]
    },
    {
      "cell_type": "code",
      "source": [
        "sent_tokenize(corpus)  # Creates a new line after ! or ."
      ],
      "metadata": {
        "colab": {
          "base_uri": "https://localhost:8080/"
        },
        "id": "MVzIWS1-2T-9",
        "outputId": "7f18590e-66e0-4f48-ebad-d57aacf0ed8a"
      },
      "execution_count": null,
      "outputs": [
        {
          "output_type": "execute_result",
          "data": {
            "text/plain": [
              "['\\nOpen source licenses!',\n",
              " 'particularly those that are free for commercial use,\\nare enabling independent teams to build systems that are competitive with those produced by big tech companies.',\n",
              " 'A recently leaked Google memo went so far as to call open source development a threat to the company’s business.']"
            ]
          },
          "metadata": {},
          "execution_count": 13
        }
      ]
    },
    {
      "cell_type": "code",
      "source": [
        "# Pragraph --> Words\n",
        "from nltk.tokenize import word_tokenize"
      ],
      "metadata": {
        "id": "sV5CgX5-3bxh"
      },
      "execution_count": null,
      "outputs": []
    },
    {
      "cell_type": "code",
      "source": [
        "word_tokenize(corpus)"
      ],
      "metadata": {
        "colab": {
          "base_uri": "https://localhost:8080/"
        },
        "id": "BXEb7hQK7J0s",
        "outputId": "4c8880a7-cd63-43a2-f241-c638df2b6ddd"
      },
      "execution_count": null,
      "outputs": [
        {
          "output_type": "execute_result",
          "data": {
            "text/plain": [
              "['Open',\n",
              " 'source',\n",
              " 'licenses',\n",
              " '!',\n",
              " 'particularly',\n",
              " 'those',\n",
              " 'that',\n",
              " 'are',\n",
              " 'free',\n",
              " 'for',\n",
              " 'commercial',\n",
              " 'use',\n",
              " ',',\n",
              " 'are',\n",
              " 'enabling',\n",
              " 'independent',\n",
              " 'teams',\n",
              " 'to',\n",
              " 'build',\n",
              " 'systems',\n",
              " 'that',\n",
              " 'are',\n",
              " 'competitive',\n",
              " 'with',\n",
              " 'those',\n",
              " 'produced',\n",
              " 'by',\n",
              " 'big',\n",
              " 'tech',\n",
              " 'companies',\n",
              " '.',\n",
              " 'A',\n",
              " 'recently',\n",
              " 'leaked',\n",
              " 'Google',\n",
              " 'memo',\n",
              " 'went',\n",
              " 'so',\n",
              " 'far',\n",
              " 'as',\n",
              " 'to',\n",
              " 'call',\n",
              " 'open',\n",
              " 'source',\n",
              " 'development',\n",
              " 'a',\n",
              " 'threat',\n",
              " 'to',\n",
              " 'the',\n",
              " 'company',\n",
              " '’',\n",
              " 's',\n",
              " 'business',\n",
              " '.']"
            ]
          },
          "metadata": {},
          "execution_count": 15
        }
      ]
    },
    {
      "cell_type": "code",
      "source": [
        "#More detalied tokenization\n",
        "from nltk.tokenize import wordpunct_tokenize"
      ],
      "metadata": {
        "id": "V0sv7afl7Msl"
      },
      "execution_count": null,
      "outputs": []
    },
    {
      "cell_type": "code",
      "source": [
        "wordpunct_tokenize(corpus)"
      ],
      "metadata": {
        "colab": {
          "base_uri": "https://localhost:8080/"
        },
        "id": "b_T4A_8h7mWU",
        "outputId": "13952d77-f9da-447f-d331-48274f4f3f6c"
      },
      "execution_count": null,
      "outputs": [
        {
          "output_type": "execute_result",
          "data": {
            "text/plain": [
              "['Open',\n",
              " 'source',\n",
              " 'licenses',\n",
              " '!',\n",
              " 'particularly',\n",
              " 'those',\n",
              " 'that',\n",
              " 'are',\n",
              " 'free',\n",
              " 'for',\n",
              " 'commercial',\n",
              " 'use',\n",
              " ',',\n",
              " 'are',\n",
              " 'enabling',\n",
              " 'independent',\n",
              " 'teams',\n",
              " 'to',\n",
              " 'build',\n",
              " 'systems',\n",
              " 'that',\n",
              " 'are',\n",
              " 'competitive',\n",
              " 'with',\n",
              " 'those',\n",
              " 'produced',\n",
              " 'by',\n",
              " 'big',\n",
              " 'tech',\n",
              " 'companies',\n",
              " '.',\n",
              " 'A',\n",
              " 'recently',\n",
              " 'leaked',\n",
              " 'Google',\n",
              " 'memo',\n",
              " 'went',\n",
              " 'so',\n",
              " 'far',\n",
              " 'as',\n",
              " 'to',\n",
              " 'call',\n",
              " 'open',\n",
              " 'source',\n",
              " 'development',\n",
              " 'a',\n",
              " 'threat',\n",
              " 'to',\n",
              " 'the',\n",
              " 'company',\n",
              " '’',\n",
              " 's',\n",
              " 'business',\n",
              " '.']"
            ]
          },
          "metadata": {},
          "execution_count": 18
        }
      ]
    },
    {
      "cell_type": "code",
      "source": [
        "from nltk.tokenize import TreebankWordTokenizer"
      ],
      "metadata": {
        "id": "OlI9ByWW7ww4"
      },
      "execution_count": null,
      "outputs": []
    },
    {
      "cell_type": "code",
      "source": [
        "tokenizer =  TreebankWordTokenizer()"
      ],
      "metadata": {
        "id": "CN3QIPER73f7"
      },
      "execution_count": null,
      "outputs": []
    },
    {
      "cell_type": "code",
      "source": [
        "tokenizer.tokenize(corpus)"
      ],
      "metadata": {
        "colab": {
          "base_uri": "https://localhost:8080/"
        },
        "id": "FnG9RCDO8I7D",
        "outputId": "5e1c37ff-4b92-4f4d-b21a-d2f82ac8d39b"
      },
      "execution_count": null,
      "outputs": [
        {
          "output_type": "execute_result",
          "data": {
            "text/plain": [
              "['Open',\n",
              " 'source',\n",
              " 'licenses',\n",
              " '!',\n",
              " 'particularly',\n",
              " 'those',\n",
              " 'that',\n",
              " 'are',\n",
              " 'free',\n",
              " 'for',\n",
              " 'commercial',\n",
              " 'use',\n",
              " ',',\n",
              " 'are',\n",
              " 'enabling',\n",
              " 'independent',\n",
              " 'teams',\n",
              " 'to',\n",
              " 'build',\n",
              " 'systems',\n",
              " 'that',\n",
              " 'are',\n",
              " 'competitive',\n",
              " 'with',\n",
              " 'those',\n",
              " 'produced',\n",
              " 'by',\n",
              " 'big',\n",
              " 'tech',\n",
              " 'companies.',\n",
              " 'A',\n",
              " 'recently',\n",
              " 'leaked',\n",
              " 'Google',\n",
              " 'memo',\n",
              " 'went',\n",
              " 'so',\n",
              " 'far',\n",
              " 'as',\n",
              " 'to',\n",
              " 'call',\n",
              " 'open',\n",
              " 'source',\n",
              " 'development',\n",
              " 'a',\n",
              " 'threat',\n",
              " 'to',\n",
              " 'the',\n",
              " 'company’s',\n",
              " 'business',\n",
              " '.']"
            ]
          },
          "metadata": {},
          "execution_count": 24
        }
      ]
    },
    {
      "cell_type": "code",
      "source": [],
      "metadata": {
        "id": "E8vIPqAt8ZZr"
      },
      "execution_count": null,
      "outputs": []
    }
  ]
}