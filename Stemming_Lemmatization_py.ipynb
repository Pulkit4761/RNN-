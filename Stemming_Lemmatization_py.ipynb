{
  "nbformat": 4,
  "nbformat_minor": 0,
  "metadata": {
    "colab": {
      "provenance": [],
      "authorship_tag": "ABX9TyMV/vbkwdTFotLU8QfRxx7D",
      "include_colab_link": true
    },
    "kernelspec": {
      "name": "python3",
      "display_name": "Python 3"
    },
    "language_info": {
      "name": "python"
    }
  },
  "cells": [
    {
      "cell_type": "markdown",
      "metadata": {
        "id": "view-in-github",
        "colab_type": "text"
      },
      "source": [
        "<a href=\"https://colab.research.google.com/github/Pulkit4761/RNN-/blob/main/Stemming_Lemmatization_py.ipynb\" target=\"_parent\"><img src=\"https://colab.research.google.com/assets/colab-badge.svg\" alt=\"Open In Colab\"/></a>"
      ]
    },
    {
      "cell_type": "markdown",
      "source": [
        "**STEMMING**\n",
        "\n",
        "Stemming is the process of reducing a word to it's word stem that affixes to suffixes and prefixes or the roots of words known as lemma. Stemming is important in NLP and NLU\n",
        "\n"
      ],
      "metadata": {
        "id": "go5Wps1w9eO1"
      }
    },
    {
      "cell_type": "code",
      "execution_count": null,
      "metadata": {
        "id": "NnCvpi9H9Uyn"
      },
      "outputs": [],
      "source": [
        "from nltk.stem import PorterStemmer"
      ]
    },
    {
      "cell_type": "code",
      "source": [
        "stemming = PorterStemmer()"
      ],
      "metadata": {
        "id": "NqtfKr0g-j1I"
      },
      "execution_count": null,
      "outputs": []
    },
    {
      "cell_type": "code",
      "source": [
        "words = [\"eating\",\"eats\",\"eaten\",\"writing\",\"writes\",\"programming\",\"programs\",\"history\",\"finally\",\"finalized\"]"
      ],
      "metadata": {
        "id": "vrIDmVXY-s6S"
      },
      "execution_count": null,
      "outputs": []
    },
    {
      "cell_type": "code",
      "source": [
        "for word in words:\n",
        "  print(f\"{word} --->  {stemming.stem(word)}\")"
      ],
      "metadata": {
        "colab": {
          "base_uri": "https://localhost:8080/"
        },
        "id": "aBdQboHh_KxK",
        "outputId": "d4bf3508-2d00-4abc-f618-ff988a1f321a"
      },
      "execution_count": null,
      "outputs": [
        {
          "output_type": "stream",
          "name": "stdout",
          "text": [
            "eating --->  eat\n",
            "eats --->  eat\n",
            "eaten --->  eaten\n",
            "writing --->  write\n",
            "writes --->  write\n",
            "programming --->  program\n",
            "programs --->  program\n",
            "history --->  histori\n",
            "finally --->  final\n",
            "finalized --->  final\n"
          ]
        }
      ]
    },
    {
      "cell_type": "code",
      "source": [
        "# Disadvantage\n",
        "stemming.stem(\"Congratulations\")"
      ],
      "metadata": {
        "colab": {
          "base_uri": "https://localhost:8080/",
          "height": 35
        },
        "id": "TmBQMD9Q_jVR",
        "outputId": "1357cd64-efe7-41f8-9f78-8834331f4675"
      },
      "execution_count": null,
      "outputs": [
        {
          "output_type": "execute_result",
          "data": {
            "text/plain": [
              "'congratul'"
            ],
            "application/vnd.google.colaboratory.intrinsic+json": {
              "type": "string"
            }
          },
          "metadata": {},
          "execution_count": 5
        }
      ]
    },
    {
      "cell_type": "code",
      "source": [
        "# Lancaster stemming algorithm\n",
        "from nltk.stem import LancasterStemmer"
      ],
      "metadata": {
        "id": "pCf7wkyW_wE_"
      },
      "execution_count": null,
      "outputs": []
    },
    {
      "cell_type": "code",
      "source": [
        "lancaster = LancasterStemmer()"
      ],
      "metadata": {
        "id": "V2GhnNz1ATCK"
      },
      "execution_count": null,
      "outputs": []
    },
    {
      "cell_type": "code",
      "source": [
        "for word in words:\n",
        "  print(f\"{word} --->  {lancaster.stem(word)}\")"
      ],
      "metadata": {
        "colab": {
          "base_uri": "https://localhost:8080/"
        },
        "id": "iLPUpvBjAXpE",
        "outputId": "e5fc8cee-e9b0-4bb3-e435-9b73a6cd1f3f"
      },
      "execution_count": null,
      "outputs": [
        {
          "output_type": "stream",
          "name": "stdout",
          "text": [
            "eating --->  eat\n",
            "eats --->  eat\n",
            "eaten --->  eat\n",
            "writing --->  writ\n",
            "writes --->  writ\n",
            "programming --->  program\n",
            "programs --->  program\n",
            "history --->  hist\n",
            "finally --->  fin\n",
            "finalized --->  fin\n"
          ]
        }
      ]
    },
    {
      "cell_type": "code",
      "source": [
        "from nltk.stem import RegexpStemmer"
      ],
      "metadata": {
        "id": "Q4h29bzIAdB7"
      },
      "execution_count": null,
      "outputs": []
    },
    {
      "cell_type": "code",
      "source": [
        "reg_stemmer = RegexpStemmer('ing|s$|e$|able$', min=4)"
      ],
      "metadata": {
        "id": "uTEm60-0EYVC"
      },
      "execution_count": null,
      "outputs": []
    },
    {
      "cell_type": "code",
      "source": [
        "reg_stemmer.stem(\"eating\")"
      ],
      "metadata": {
        "colab": {
          "base_uri": "https://localhost:8080/",
          "height": 35
        },
        "id": "eZZB3IJqEdQF",
        "outputId": "10ea7938-3c03-4031-c101-e9205902697c"
      },
      "execution_count": null,
      "outputs": [
        {
          "output_type": "execute_result",
          "data": {
            "text/plain": [
              "'eat'"
            ],
            "application/vnd.google.colaboratory.intrinsic+json": {
              "type": "string"
            }
          },
          "metadata": {},
          "execution_count": 12
        }
      ]
    },
    {
      "cell_type": "code",
      "source": [
        "reg_stemmer.stem(\"ingplaying\")"
      ],
      "metadata": {
        "colab": {
          "base_uri": "https://localhost:8080/",
          "height": 35
        },
        "id": "ezsYFKDUEksN",
        "outputId": "213d32a9-e9b6-436a-8186-1f90d97fe65c"
      },
      "execution_count": null,
      "outputs": [
        {
          "output_type": "execute_result",
          "data": {
            "text/plain": [
              "'play'"
            ],
            "application/vnd.google.colaboratory.intrinsic+json": {
              "type": "string"
            }
          },
          "metadata": {},
          "execution_count": 16
        }
      ]
    },
    {
      "cell_type": "code",
      "source": [
        "# Snowball Stemmer\n",
        "from nltk.stem import SnowballStemmer"
      ],
      "metadata": {
        "id": "Zj0-aK3yEppC"
      },
      "execution_count": null,
      "outputs": []
    },
    {
      "cell_type": "code",
      "source": [
        "snowballstemmer = SnowballStemmer('english', ignore_stopwords = False)"
      ],
      "metadata": {
        "id": "-QqNw-1mE7N7"
      },
      "execution_count": null,
      "outputs": []
    },
    {
      "cell_type": "code",
      "source": [
        "for word in words:\n",
        "  print(f\"{word} --->  {snowballstemmer.stem(word)}\")"
      ],
      "metadata": {
        "colab": {
          "base_uri": "https://localhost:8080/"
        },
        "id": "Hi2E9nBZHDjT",
        "outputId": "f3924d41-aa7d-4c67-deee-678c00a059be"
      },
      "execution_count": null,
      "outputs": [
        {
          "output_type": "stream",
          "name": "stdout",
          "text": [
            "eating --->  eat\n",
            "eats --->  eat\n",
            "eaten --->  eaten\n",
            "writing --->  write\n",
            "writes --->  write\n",
            "programming --->  program\n",
            "programs --->  program\n",
            "history --->  histori\n",
            "finally --->  final\n",
            "finalized --->  final\n"
          ]
        }
      ]
    },
    {
      "cell_type": "code",
      "source": [
        "# Comparing porter and snowball stemmer\n",
        "\n",
        "stemming.stem(\"fairly\"), stemming .stem(\"sportingly\")"
      ],
      "metadata": {
        "colab": {
          "base_uri": "https://localhost:8080/"
        },
        "id": "qYmcgQe8HHml",
        "outputId": "23e324c9-9ac5-43b3-94d6-e63a22de076e"
      },
      "execution_count": null,
      "outputs": [
        {
          "output_type": "execute_result",
          "data": {
            "text/plain": [
              "('fairli', 'sportingli')"
            ]
          },
          "metadata": {},
          "execution_count": 24
        }
      ]
    },
    {
      "cell_type": "code",
      "source": [
        "snowballstemmer.stem(\"fairly\"),snowballstemmer.stem(\"sportingly\")"
      ],
      "metadata": {
        "colab": {
          "base_uri": "https://localhost:8080/"
        },
        "id": "C8boIIu-H5ZV",
        "outputId": "8458b5a7-0c2c-45c2-a8fd-2db6397e1422"
      },
      "execution_count": null,
      "outputs": [
        {
          "output_type": "execute_result",
          "data": {
            "text/plain": [
              "('fair', 'sport')"
            ]
          },
          "metadata": {},
          "execution_count": 26
        }
      ]
    },
    {
      "cell_type": "markdown",
      "source": [
        "**WORDNET LEMMATIZER**\n",
        "\n",
        "Lemmatization technique is like stemming. The output we will get after lemmatization is called lemma, which is root word rather than root stem, the output of stemming. After lemmatization we will be getting a vaild word that means the same thing"
      ],
      "metadata": {
        "id": "Dk9_8jyEIl0K"
      }
    },
    {
      "cell_type": "code",
      "source": [
        "import nltk\n",
        "from nltk.stem import WordNetLemmatizer\n",
        "lemmatizer = WordNetLemmatizer()"
      ],
      "metadata": {
        "id": "drzDKp6wIBVJ"
      },
      "execution_count": null,
      "outputs": []
    },
    {
      "cell_type": "code",
      "source": [
        "nltk.download('wordnet')"
      ],
      "metadata": {
        "colab": {
          "base_uri": "https://localhost:8080/"
        },
        "id": "8pkvuFdtKLs5",
        "outputId": "62ec47ff-cc91-4449-ca0d-1e3452aa5262"
      },
      "execution_count": null,
      "outputs": [
        {
          "output_type": "stream",
          "name": "stderr",
          "text": [
            "[nltk_data] Downloading package wordnet to /root/nltk_data...\n"
          ]
        },
        {
          "output_type": "execute_result",
          "data": {
            "text/plain": [
              "True"
            ]
          },
          "metadata": {},
          "execution_count": 33
        }
      ]
    },
    {
      "cell_type": "code",
      "source": [
        "for word in words:\n",
        "  print(f\"{word} ---> {lemmatizer.lemmatize(word)}\")"
      ],
      "metadata": {
        "colab": {
          "base_uri": "https://localhost:8080/"
        },
        "id": "q7KauB9QJgmX",
        "outputId": "951788ce-3648-4379-b545-8c31acb13bbd"
      },
      "execution_count": null,
      "outputs": [
        {
          "output_type": "stream",
          "name": "stdout",
          "text": [
            "eating ---> eating\n",
            "eats ---> eats\n",
            "eaten ---> eaten\n",
            "writing ---> writing\n",
            "writes ---> writes\n",
            "programming ---> programming\n",
            "programs ---> program\n",
            "history ---> history\n",
            "finally ---> finally\n",
            "finalized ---> finalized\n"
          ]
        }
      ]
    },
    {
      "cell_type": "markdown",
      "source": [
        " POS -->\n",
        " Noun -n\n",
        " verb -v\n",
        " adjective -a\n",
        " adverb -r\n"
      ],
      "metadata": {
        "id": "riVIzqDWL3MG"
      }
    },
    {
      "cell_type": "code",
      "source": [
        " lemmatizer.lemmatize(\"good\", pos = 'v')"
      ],
      "metadata": {
        "colab": {
          "base_uri": "https://localhost:8080/",
          "height": 35
        },
        "id": "H3mtp8XtJy9V",
        "outputId": "118ab6fd-4a29-403e-b9bb-5ed4a471e867"
      },
      "execution_count": null,
      "outputs": [
        {
          "output_type": "execute_result",
          "data": {
            "text/plain": [
              "'good'"
            ],
            "application/vnd.google.colaboratory.intrinsic+json": {
              "type": "string"
            }
          },
          "metadata": {},
          "execution_count": 38
        }
      ]
    },
    {
      "cell_type": "code",
      "source": [
        "#Sentiment analysis --> stemming\n",
        "#Chatbot --> lemmatization"
      ],
      "metadata": {
        "id": "HeLgEAPGLkPs"
      },
      "execution_count": null,
      "outputs": []
    }
  ]
}